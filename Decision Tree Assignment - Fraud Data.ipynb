{
 "cells": [
  {
   "cell_type": "code",
   "execution_count": 23,
   "id": "30e08cf2",
   "metadata": {
    "ExecuteTime": {
     "end_time": "2022-04-29T06:34:02.541980Z",
     "start_time": "2022-04-29T06:34:02.517995Z"
    }
   },
   "outputs": [],
   "source": [
    "#Import Libraries\n",
    "import pandas as pd\n",
    "import numpy as np\n",
    "import matplotlib.pyplot as plt\n",
    "from sklearn.model_selection import train_test_split\n",
    "from sklearn.tree import DecisionTreeClassifier\n",
    "from sklearn import tree\n",
    "from sklearn.metrics import classification_report\n",
    "from sklearn import preprocessing\n",
    "\n",
    "\n"
   ]
  },
  {
   "cell_type": "code",
   "execution_count": 3,
   "id": "f5d751b2",
   "metadata": {
    "ExecuteTime": {
     "end_time": "2022-04-28T20:02:45.910593Z",
     "start_time": "2022-04-28T20:02:45.870618Z"
    }
   },
   "outputs": [
    {
     "data": {
      "text/html": [
       "<div>\n",
       "<style scoped>\n",
       "    .dataframe tbody tr th:only-of-type {\n",
       "        vertical-align: middle;\n",
       "    }\n",
       "\n",
       "    .dataframe tbody tr th {\n",
       "        vertical-align: top;\n",
       "    }\n",
       "\n",
       "    .dataframe thead th {\n",
       "        text-align: right;\n",
       "    }\n",
       "</style>\n",
       "<table border=\"1\" class=\"dataframe\">\n",
       "  <thead>\n",
       "    <tr style=\"text-align: right;\">\n",
       "      <th></th>\n",
       "      <th>Undergrad</th>\n",
       "      <th>Marital.Status</th>\n",
       "      <th>Taxable.Income</th>\n",
       "      <th>City.Population</th>\n",
       "      <th>Work.Experience</th>\n",
       "      <th>Urban</th>\n",
       "    </tr>\n",
       "  </thead>\n",
       "  <tbody>\n",
       "    <tr>\n",
       "      <th>0</th>\n",
       "      <td>NO</td>\n",
       "      <td>Single</td>\n",
       "      <td>68833</td>\n",
       "      <td>50047</td>\n",
       "      <td>10</td>\n",
       "      <td>YES</td>\n",
       "    </tr>\n",
       "    <tr>\n",
       "      <th>1</th>\n",
       "      <td>YES</td>\n",
       "      <td>Divorced</td>\n",
       "      <td>33700</td>\n",
       "      <td>134075</td>\n",
       "      <td>18</td>\n",
       "      <td>YES</td>\n",
       "    </tr>\n",
       "    <tr>\n",
       "      <th>2</th>\n",
       "      <td>NO</td>\n",
       "      <td>Married</td>\n",
       "      <td>36925</td>\n",
       "      <td>160205</td>\n",
       "      <td>30</td>\n",
       "      <td>YES</td>\n",
       "    </tr>\n",
       "    <tr>\n",
       "      <th>3</th>\n",
       "      <td>YES</td>\n",
       "      <td>Single</td>\n",
       "      <td>50190</td>\n",
       "      <td>193264</td>\n",
       "      <td>15</td>\n",
       "      <td>YES</td>\n",
       "    </tr>\n",
       "    <tr>\n",
       "      <th>4</th>\n",
       "      <td>NO</td>\n",
       "      <td>Married</td>\n",
       "      <td>81002</td>\n",
       "      <td>27533</td>\n",
       "      <td>28</td>\n",
       "      <td>NO</td>\n",
       "    </tr>\n",
       "    <tr>\n",
       "      <th>...</th>\n",
       "      <td>...</td>\n",
       "      <td>...</td>\n",
       "      <td>...</td>\n",
       "      <td>...</td>\n",
       "      <td>...</td>\n",
       "      <td>...</td>\n",
       "    </tr>\n",
       "    <tr>\n",
       "      <th>595</th>\n",
       "      <td>YES</td>\n",
       "      <td>Divorced</td>\n",
       "      <td>76340</td>\n",
       "      <td>39492</td>\n",
       "      <td>7</td>\n",
       "      <td>YES</td>\n",
       "    </tr>\n",
       "    <tr>\n",
       "      <th>596</th>\n",
       "      <td>YES</td>\n",
       "      <td>Divorced</td>\n",
       "      <td>69967</td>\n",
       "      <td>55369</td>\n",
       "      <td>2</td>\n",
       "      <td>YES</td>\n",
       "    </tr>\n",
       "    <tr>\n",
       "      <th>597</th>\n",
       "      <td>NO</td>\n",
       "      <td>Divorced</td>\n",
       "      <td>47334</td>\n",
       "      <td>154058</td>\n",
       "      <td>0</td>\n",
       "      <td>YES</td>\n",
       "    </tr>\n",
       "    <tr>\n",
       "      <th>598</th>\n",
       "      <td>YES</td>\n",
       "      <td>Married</td>\n",
       "      <td>98592</td>\n",
       "      <td>180083</td>\n",
       "      <td>17</td>\n",
       "      <td>NO</td>\n",
       "    </tr>\n",
       "    <tr>\n",
       "      <th>599</th>\n",
       "      <td>NO</td>\n",
       "      <td>Divorced</td>\n",
       "      <td>96519</td>\n",
       "      <td>158137</td>\n",
       "      <td>16</td>\n",
       "      <td>NO</td>\n",
       "    </tr>\n",
       "  </tbody>\n",
       "</table>\n",
       "<p>600 rows × 6 columns</p>\n",
       "</div>"
      ],
      "text/plain": [
       "    Undergrad Marital.Status  Taxable.Income  City.Population  \\\n",
       "0          NO         Single           68833            50047   \n",
       "1         YES       Divorced           33700           134075   \n",
       "2          NO        Married           36925           160205   \n",
       "3         YES         Single           50190           193264   \n",
       "4          NO        Married           81002            27533   \n",
       "..        ...            ...             ...              ...   \n",
       "595       YES       Divorced           76340            39492   \n",
       "596       YES       Divorced           69967            55369   \n",
       "597        NO       Divorced           47334           154058   \n",
       "598       YES        Married           98592           180083   \n",
       "599        NO       Divorced           96519           158137   \n",
       "\n",
       "     Work.Experience Urban  \n",
       "0                 10   YES  \n",
       "1                 18   YES  \n",
       "2                 30   YES  \n",
       "3                 15   YES  \n",
       "4                 28    NO  \n",
       "..               ...   ...  \n",
       "595                7   YES  \n",
       "596                2   YES  \n",
       "597                0   YES  \n",
       "598               17    NO  \n",
       "599               16    NO  \n",
       "\n",
       "[600 rows x 6 columns]"
      ]
     },
     "execution_count": 3,
     "metadata": {},
     "output_type": "execute_result"
    }
   ],
   "source": [
    "#Import Dataset\n",
    "fraud=pd.read_csv('Fraud_check.csv')\n",
    "fraud"
   ]
  },
  {
   "cell_type": "code",
   "execution_count": 5,
   "id": "abfeeb29",
   "metadata": {
    "ExecuteTime": {
     "end_time": "2022-04-28T20:03:01.523126Z",
     "start_time": "2022-04-28T20:03:01.499150Z"
    }
   },
   "outputs": [
    {
     "name": "stdout",
     "output_type": "stream",
     "text": [
      "<class 'pandas.core.frame.DataFrame'>\n",
      "RangeIndex: 600 entries, 0 to 599\n",
      "Data columns (total 6 columns):\n",
      " #   Column           Non-Null Count  Dtype \n",
      "---  ------           --------------  ----- \n",
      " 0   Undergrad        600 non-null    object\n",
      " 1   Marital.Status   600 non-null    object\n",
      " 2   Taxable.Income   600 non-null    int64 \n",
      " 3   City.Population  600 non-null    int64 \n",
      " 4   Work.Experience  600 non-null    int64 \n",
      " 5   Urban            600 non-null    object\n",
      "dtypes: int64(3), object(3)\n",
      "memory usage: 28.2+ KB\n"
     ]
    }
   ],
   "source": [
    "#EDA\n",
    "fraud.info()"
   ]
  },
  {
   "cell_type": "code",
   "execution_count": 7,
   "id": "6fb5f807",
   "metadata": {
    "ExecuteTime": {
     "end_time": "2022-04-28T20:03:17.670139Z",
     "start_time": "2022-04-28T20:03:17.638160Z"
    }
   },
   "outputs": [
    {
     "data": {
      "text/html": [
       "<div>\n",
       "<style scoped>\n",
       "    .dataframe tbody tr th:only-of-type {\n",
       "        vertical-align: middle;\n",
       "    }\n",
       "\n",
       "    .dataframe tbody tr th {\n",
       "        vertical-align: top;\n",
       "    }\n",
       "\n",
       "    .dataframe thead th {\n",
       "        text-align: right;\n",
       "    }\n",
       "</style>\n",
       "<table border=\"1\" class=\"dataframe\">\n",
       "  <thead>\n",
       "    <tr style=\"text-align: right;\">\n",
       "      <th></th>\n",
       "      <th>Taxable.Income</th>\n",
       "      <th>City.Population</th>\n",
       "      <th>Work.Experience</th>\n",
       "    </tr>\n",
       "  </thead>\n",
       "  <tbody>\n",
       "    <tr>\n",
       "      <th>count</th>\n",
       "      <td>600.000000</td>\n",
       "      <td>600.000000</td>\n",
       "      <td>600.000000</td>\n",
       "    </tr>\n",
       "    <tr>\n",
       "      <th>mean</th>\n",
       "      <td>55208.375000</td>\n",
       "      <td>108747.368333</td>\n",
       "      <td>15.558333</td>\n",
       "    </tr>\n",
       "    <tr>\n",
       "      <th>std</th>\n",
       "      <td>26204.827597</td>\n",
       "      <td>49850.075134</td>\n",
       "      <td>8.842147</td>\n",
       "    </tr>\n",
       "    <tr>\n",
       "      <th>min</th>\n",
       "      <td>10003.000000</td>\n",
       "      <td>25779.000000</td>\n",
       "      <td>0.000000</td>\n",
       "    </tr>\n",
       "    <tr>\n",
       "      <th>25%</th>\n",
       "      <td>32871.500000</td>\n",
       "      <td>66966.750000</td>\n",
       "      <td>8.000000</td>\n",
       "    </tr>\n",
       "    <tr>\n",
       "      <th>50%</th>\n",
       "      <td>55074.500000</td>\n",
       "      <td>106493.500000</td>\n",
       "      <td>15.000000</td>\n",
       "    </tr>\n",
       "    <tr>\n",
       "      <th>75%</th>\n",
       "      <td>78611.750000</td>\n",
       "      <td>150114.250000</td>\n",
       "      <td>24.000000</td>\n",
       "    </tr>\n",
       "    <tr>\n",
       "      <th>max</th>\n",
       "      <td>99619.000000</td>\n",
       "      <td>199778.000000</td>\n",
       "      <td>30.000000</td>\n",
       "    </tr>\n",
       "  </tbody>\n",
       "</table>\n",
       "</div>"
      ],
      "text/plain": [
       "       Taxable.Income  City.Population  Work.Experience\n",
       "count      600.000000       600.000000       600.000000\n",
       "mean     55208.375000    108747.368333        15.558333\n",
       "std      26204.827597     49850.075134         8.842147\n",
       "min      10003.000000     25779.000000         0.000000\n",
       "25%      32871.500000     66966.750000         8.000000\n",
       "50%      55074.500000    106493.500000        15.000000\n",
       "75%      78611.750000    150114.250000        24.000000\n",
       "max      99619.000000    199778.000000        30.000000"
      ]
     },
     "execution_count": 7,
     "metadata": {},
     "output_type": "execute_result"
    }
   ],
   "source": [
    "fraud.describe()"
   ]
  },
  {
   "cell_type": "code",
   "execution_count": 9,
   "id": "d2f47372",
   "metadata": {
    "ExecuteTime": {
     "end_time": "2022-04-28T20:03:30.925336Z",
     "start_time": "2022-04-28T20:03:30.909306Z"
    }
   },
   "outputs": [
    {
     "data": {
      "text/html": [
       "<div>\n",
       "<style scoped>\n",
       "    .dataframe tbody tr th:only-of-type {\n",
       "        vertical-align: middle;\n",
       "    }\n",
       "\n",
       "    .dataframe tbody tr th {\n",
       "        vertical-align: top;\n",
       "    }\n",
       "\n",
       "    .dataframe thead th {\n",
       "        text-align: right;\n",
       "    }\n",
       "</style>\n",
       "<table border=\"1\" class=\"dataframe\">\n",
       "  <thead>\n",
       "    <tr style=\"text-align: right;\">\n",
       "      <th></th>\n",
       "      <th>Taxable.Income</th>\n",
       "      <th>City.Population</th>\n",
       "      <th>Work.Experience</th>\n",
       "    </tr>\n",
       "  </thead>\n",
       "  <tbody>\n",
       "    <tr>\n",
       "      <th>Taxable.Income</th>\n",
       "      <td>1.000000</td>\n",
       "      <td>-0.064387</td>\n",
       "      <td>-0.001818</td>\n",
       "    </tr>\n",
       "    <tr>\n",
       "      <th>City.Population</th>\n",
       "      <td>-0.064387</td>\n",
       "      <td>1.000000</td>\n",
       "      <td>0.013135</td>\n",
       "    </tr>\n",
       "    <tr>\n",
       "      <th>Work.Experience</th>\n",
       "      <td>-0.001818</td>\n",
       "      <td>0.013135</td>\n",
       "      <td>1.000000</td>\n",
       "    </tr>\n",
       "  </tbody>\n",
       "</table>\n",
       "</div>"
      ],
      "text/plain": [
       "                 Taxable.Income  City.Population  Work.Experience\n",
       "Taxable.Income         1.000000        -0.064387        -0.001818\n",
       "City.Population       -0.064387         1.000000         0.013135\n",
       "Work.Experience       -0.001818         0.013135         1.000000"
      ]
     },
     "execution_count": 9,
     "metadata": {},
     "output_type": "execute_result"
    }
   ],
   "source": [
    "fraud.corr()"
   ]
  },
  {
   "cell_type": "code",
   "execution_count": 11,
   "id": "b9f29414",
   "metadata": {
    "ExecuteTime": {
     "end_time": "2022-04-28T20:05:41.636768Z",
     "start_time": "2022-04-28T20:05:39.934567Z"
    }
   },
   "outputs": [
    {
     "data": {
      "text/plain": [
       "<seaborn.axisgrid.PairGrid at 0x226a544beb0>"
      ]
     },
     "execution_count": 11,
     "metadata": {},
     "output_type": "execute_result"
    },
    {
     "data": {
      "image/png": "[encoded data removed]",
      "text/plain": [
       "<Figure size 540x540 with 12 Axes>"
      ]
     },
     "metadata": {
      "needs_background": "light"
     },
     "output_type": "display_data"
    }
   ],
   "source": [
    "#Data Visualisation\n",
    "import seaborn as sns\n",
    "sns.pairplot(fraud)"
   ]
  },
  {
   "cell_type": "code",
   "execution_count": 25,
   "id": "73d577f6",
   "metadata": {
    "ExecuteTime": {
     "end_time": "2022-04-29T06:35:21.167223Z",
     "start_time": "2022-04-29T06:35:21.118911Z"
    }
   },
   "outputs": [
    {
     "data": {
      "text/html": [
       "<div>\n",
       "<style scoped>\n",
       "    .dataframe tbody tr th:only-of-type {\n",
       "        vertical-align: middle;\n",
       "    }\n",
       "\n",
       "    .dataframe tbody tr th {\n",
       "        vertical-align: top;\n",
       "    }\n",
       "\n",
       "    .dataframe thead th {\n",
       "        text-align: right;\n",
       "    }\n",
       "</style>\n",
       "<table border=\"1\" class=\"dataframe\">\n",
       "  <thead>\n",
       "    <tr style=\"text-align: right;\">\n",
       "      <th></th>\n",
       "      <th>Undergrad</th>\n",
       "      <th>Marital.Status</th>\n",
       "      <th>Taxable.Income</th>\n",
       "      <th>City.Population</th>\n",
       "      <th>Work.Experience</th>\n",
       "      <th>Urban</th>\n",
       "      <th>Fraudcheck</th>\n",
       "    </tr>\n",
       "  </thead>\n",
       "  <tbody>\n",
       "    <tr>\n",
       "      <th>0</th>\n",
       "      <td>0</td>\n",
       "      <td>2</td>\n",
       "      <td>68833</td>\n",
       "      <td>50047</td>\n",
       "      <td>10</td>\n",
       "      <td>1</td>\n",
       "      <td>Good</td>\n",
       "    </tr>\n",
       "    <tr>\n",
       "      <th>1</th>\n",
       "      <td>1</td>\n",
       "      <td>0</td>\n",
       "      <td>33700</td>\n",
       "      <td>134075</td>\n",
       "      <td>18</td>\n",
       "      <td>1</td>\n",
       "      <td>Good</td>\n",
       "    </tr>\n",
       "    <tr>\n",
       "      <th>2</th>\n",
       "      <td>0</td>\n",
       "      <td>1</td>\n",
       "      <td>36925</td>\n",
       "      <td>160205</td>\n",
       "      <td>30</td>\n",
       "      <td>1</td>\n",
       "      <td>Good</td>\n",
       "    </tr>\n",
       "    <tr>\n",
       "      <th>3</th>\n",
       "      <td>1</td>\n",
       "      <td>2</td>\n",
       "      <td>50190</td>\n",
       "      <td>193264</td>\n",
       "      <td>15</td>\n",
       "      <td>1</td>\n",
       "      <td>Good</td>\n",
       "    </tr>\n",
       "    <tr>\n",
       "      <th>4</th>\n",
       "      <td>0</td>\n",
       "      <td>1</td>\n",
       "      <td>81002</td>\n",
       "      <td>27533</td>\n",
       "      <td>28</td>\n",
       "      <td>0</td>\n",
       "      <td>Good</td>\n",
       "    </tr>\n",
       "    <tr>\n",
       "      <th>...</th>\n",
       "      <td>...</td>\n",
       "      <td>...</td>\n",
       "      <td>...</td>\n",
       "      <td>...</td>\n",
       "      <td>...</td>\n",
       "      <td>...</td>\n",
       "      <td>...</td>\n",
       "    </tr>\n",
       "    <tr>\n",
       "      <th>595</th>\n",
       "      <td>1</td>\n",
       "      <td>0</td>\n",
       "      <td>76340</td>\n",
       "      <td>39492</td>\n",
       "      <td>7</td>\n",
       "      <td>1</td>\n",
       "      <td>Good</td>\n",
       "    </tr>\n",
       "    <tr>\n",
       "      <th>596</th>\n",
       "      <td>1</td>\n",
       "      <td>0</td>\n",
       "      <td>69967</td>\n",
       "      <td>55369</td>\n",
       "      <td>2</td>\n",
       "      <td>1</td>\n",
       "      <td>Good</td>\n",
       "    </tr>\n",
       "    <tr>\n",
       "      <th>597</th>\n",
       "      <td>0</td>\n",
       "      <td>0</td>\n",
       "      <td>47334</td>\n",
       "      <td>154058</td>\n",
       "      <td>0</td>\n",
       "      <td>1</td>\n",
       "      <td>Good</td>\n",
       "    </tr>\n",
       "    <tr>\n",
       "      <th>598</th>\n",
       "      <td>1</td>\n",
       "      <td>1</td>\n",
       "      <td>98592</td>\n",
       "      <td>180083</td>\n",
       "      <td>17</td>\n",
       "      <td>0</td>\n",
       "      <td>Good</td>\n",
       "    </tr>\n",
       "    <tr>\n",
       "      <th>599</th>\n",
       "      <td>0</td>\n",
       "      <td>0</td>\n",
       "      <td>96519</td>\n",
       "      <td>158137</td>\n",
       "      <td>16</td>\n",
       "      <td>0</td>\n",
       "      <td>Good</td>\n",
       "    </tr>\n",
       "  </tbody>\n",
       "</table>\n",
       "<p>600 rows × 7 columns</p>\n",
       "</div>"
      ],
      "text/plain": [
       "     Undergrad  Marital.Status  Taxable.Income  City.Population  \\\n",
       "0            0               2           68833            50047   \n",
       "1            1               0           33700           134075   \n",
       "2            0               1           36925           160205   \n",
       "3            1               2           50190           193264   \n",
       "4            0               1           81002            27533   \n",
       "..         ...             ...             ...              ...   \n",
       "595          1               0           76340            39492   \n",
       "596          1               0           69967            55369   \n",
       "597          0               0           47334           154058   \n",
       "598          1               1           98592           180083   \n",
       "599          0               0           96519           158137   \n",
       "\n",
       "     Work.Experience  Urban Fraudcheck  \n",
       "0                 10      1       Good  \n",
       "1                 18      1       Good  \n",
       "2                 30      1       Good  \n",
       "3                 15      1       Good  \n",
       "4                 28      0       Good  \n",
       "..               ...    ...        ...  \n",
       "595                7      1       Good  \n",
       "596                2      1       Good  \n",
       "597                0      1       Good  \n",
       "598               17      0       Good  \n",
       "599               16      0       Good  \n",
       "\n",
       "[600 rows x 7 columns]"
      ]
     },
     "execution_count": 25,
     "metadata": {},
     "output_type": "execute_result"
    }
   ],
   "source": [
    "#Preprocessing the data\n",
    "fraud.loc[fraud[\"Taxable.Income\"]<=30000,\"Fraudcheck\"]=\"Risky\"\n",
    "fraud.loc[fraud[\"Taxable.Income\"]>30001,\"Fraudcheck\"]=\"Good\"\n",
    "fraud\n"
   ]
  },
  {
   "cell_type": "code",
   "execution_count": 26,
   "id": "310efa3d",
   "metadata": {
    "ExecuteTime": {
     "end_time": "2022-04-29T06:35:26.253830Z",
     "start_time": "2022-04-29T06:35:26.213855Z"
    }
   },
   "outputs": [
    {
     "data": {
      "text/html": [
       "<div>\n",
       "<style scoped>\n",
       "    .dataframe tbody tr th:only-of-type {\n",
       "        vertical-align: middle;\n",
       "    }\n",
       "\n",
       "    .dataframe tbody tr th {\n",
       "        vertical-align: top;\n",
       "    }\n",
       "\n",
       "    .dataframe thead th {\n",
       "        text-align: right;\n",
       "    }\n",
       "</style>\n",
       "<table border=\"1\" class=\"dataframe\">\n",
       "  <thead>\n",
       "    <tr style=\"text-align: right;\">\n",
       "      <th></th>\n",
       "      <th>Undergrad</th>\n",
       "      <th>Marital.Status</th>\n",
       "      <th>Taxable.Income</th>\n",
       "      <th>City.Population</th>\n",
       "      <th>Work.Experience</th>\n",
       "      <th>Urban</th>\n",
       "      <th>Fraudcheck</th>\n",
       "    </tr>\n",
       "  </thead>\n",
       "  <tbody>\n",
       "    <tr>\n",
       "      <th>0</th>\n",
       "      <td>0</td>\n",
       "      <td>2</td>\n",
       "      <td>68833</td>\n",
       "      <td>50047</td>\n",
       "      <td>10</td>\n",
       "      <td>1</td>\n",
       "      <td>0</td>\n",
       "    </tr>\n",
       "    <tr>\n",
       "      <th>1</th>\n",
       "      <td>1</td>\n",
       "      <td>0</td>\n",
       "      <td>33700</td>\n",
       "      <td>134075</td>\n",
       "      <td>18</td>\n",
       "      <td>1</td>\n",
       "      <td>0</td>\n",
       "    </tr>\n",
       "    <tr>\n",
       "      <th>2</th>\n",
       "      <td>0</td>\n",
       "      <td>1</td>\n",
       "      <td>36925</td>\n",
       "      <td>160205</td>\n",
       "      <td>30</td>\n",
       "      <td>1</td>\n",
       "      <td>0</td>\n",
       "    </tr>\n",
       "    <tr>\n",
       "      <th>3</th>\n",
       "      <td>1</td>\n",
       "      <td>2</td>\n",
       "      <td>50190</td>\n",
       "      <td>193264</td>\n",
       "      <td>15</td>\n",
       "      <td>1</td>\n",
       "      <td>0</td>\n",
       "    </tr>\n",
       "    <tr>\n",
       "      <th>4</th>\n",
       "      <td>0</td>\n",
       "      <td>1</td>\n",
       "      <td>81002</td>\n",
       "      <td>27533</td>\n",
       "      <td>28</td>\n",
       "      <td>0</td>\n",
       "      <td>0</td>\n",
       "    </tr>\n",
       "    <tr>\n",
       "      <th>...</th>\n",
       "      <td>...</td>\n",
       "      <td>...</td>\n",
       "      <td>...</td>\n",
       "      <td>...</td>\n",
       "      <td>...</td>\n",
       "      <td>...</td>\n",
       "      <td>...</td>\n",
       "    </tr>\n",
       "    <tr>\n",
       "      <th>595</th>\n",
       "      <td>1</td>\n",
       "      <td>0</td>\n",
       "      <td>76340</td>\n",
       "      <td>39492</td>\n",
       "      <td>7</td>\n",
       "      <td>1</td>\n",
       "      <td>0</td>\n",
       "    </tr>\n",
       "    <tr>\n",
       "      <th>596</th>\n",
       "      <td>1</td>\n",
       "      <td>0</td>\n",
       "      <td>69967</td>\n",
       "      <td>55369</td>\n",
       "      <td>2</td>\n",
       "      <td>1</td>\n",
       "      <td>0</td>\n",
       "    </tr>\n",
       "    <tr>\n",
       "      <th>597</th>\n",
       "      <td>0</td>\n",
       "      <td>0</td>\n",
       "      <td>47334</td>\n",
       "      <td>154058</td>\n",
       "      <td>0</td>\n",
       "      <td>1</td>\n",
       "      <td>0</td>\n",
       "    </tr>\n",
       "    <tr>\n",
       "      <th>598</th>\n",
       "      <td>1</td>\n",
       "      <td>1</td>\n",
       "      <td>98592</td>\n",
       "      <td>180083</td>\n",
       "      <td>17</td>\n",
       "      <td>0</td>\n",
       "      <td>0</td>\n",
       "    </tr>\n",
       "    <tr>\n",
       "      <th>599</th>\n",
       "      <td>0</td>\n",
       "      <td>0</td>\n",
       "      <td>96519</td>\n",
       "      <td>158137</td>\n",
       "      <td>16</td>\n",
       "      <td>0</td>\n",
       "      <td>0</td>\n",
       "    </tr>\n",
       "  </tbody>\n",
       "</table>\n",
       "<p>600 rows × 7 columns</p>\n",
       "</div>"
      ],
      "text/plain": [
       "     Undergrad  Marital.Status  Taxable.Income  City.Population  \\\n",
       "0            0               2           68833            50047   \n",
       "1            1               0           33700           134075   \n",
       "2            0               1           36925           160205   \n",
       "3            1               2           50190           193264   \n",
       "4            0               1           81002            27533   \n",
       "..         ...             ...             ...              ...   \n",
       "595          1               0           76340            39492   \n",
       "596          1               0           69967            55369   \n",
       "597          0               0           47334           154058   \n",
       "598          1               1           98592           180083   \n",
       "599          0               0           96519           158137   \n",
       "\n",
       "     Work.Experience  Urban  Fraudcheck  \n",
       "0                 10      1           0  \n",
       "1                 18      1           0  \n",
       "2                 30      1           0  \n",
       "3                 15      1           0  \n",
       "4                 28      0           0  \n",
       "..               ...    ...         ...  \n",
       "595                7      1           0  \n",
       "596                2      1           0  \n",
       "597                0      1           0  \n",
       "598               17      0           0  \n",
       "599               16      0           0  \n",
       "\n",
       "[600 rows x 7 columns]"
      ]
     },
     "execution_count": 26,
     "metadata": {},
     "output_type": "execute_result"
    }
   ],
   "source": [
    "#Complete Dataset\n",
    "label_encoder=preprocessing.LabelEncoder()\n",
    "fraud[\"Undergrad\"]=label_encoder.fit_transform(fraud[\"Undergrad\"])\n",
    "fraud[\"Marital.Status\"]=label_encoder.fit_transform(fraud[\"Marital.Status\"])\n",
    "fraud[\"Urban\"]=label_encoder.fit_transform(fraud[\"Urban\"])\n",
    "fraud[\"Fraudcheck\"]=label_encoder.fit_transform(fraud[\"Fraudcheck\"])\n",
    "fraud"
   ]
  },
  {
   "cell_type": "code",
   "execution_count": 29,
   "id": "3b664c6b",
   "metadata": {
    "ExecuteTime": {
     "end_time": "2022-04-29T06:37:52.676741Z",
     "start_time": "2022-04-29T06:37:52.652719Z"
    }
   },
   "outputs": [],
   "source": [
    "x=fraud.iloc[:,0:5]\n",
    "y=fraud['Fraudcheck']"
   ]
  },
  {
   "cell_type": "code",
   "execution_count": 31,
   "id": "c0938648",
   "metadata": {
    "ExecuteTime": {
     "end_time": "2022-04-29T06:37:59.661526Z",
     "start_time": "2022-04-29T06:37:59.637544Z"
    }
   },
   "outputs": [
    {
     "data": {
      "text/html": [
       "<div>\n",
       "<style scoped>\n",
       "    .dataframe tbody tr th:only-of-type {\n",
       "        vertical-align: middle;\n",
       "    }\n",
       "\n",
       "    .dataframe tbody tr th {\n",
       "        vertical-align: top;\n",
       "    }\n",
       "\n",
       "    .dataframe thead th {\n",
       "        text-align: right;\n",
       "    }\n",
       "</style>\n",
       "<table border=\"1\" class=\"dataframe\">\n",
       "  <thead>\n",
       "    <tr style=\"text-align: right;\">\n",
       "      <th></th>\n",
       "      <th>Undergrad</th>\n",
       "      <th>Marital.Status</th>\n",
       "      <th>Taxable.Income</th>\n",
       "      <th>City.Population</th>\n",
       "      <th>Work.Experience</th>\n",
       "    </tr>\n",
       "  </thead>\n",
       "  <tbody>\n",
       "    <tr>\n",
       "      <th>0</th>\n",
       "      <td>0</td>\n",
       "      <td>2</td>\n",
       "      <td>68833</td>\n",
       "      <td>50047</td>\n",
       "      <td>10</td>\n",
       "    </tr>\n",
       "    <tr>\n",
       "      <th>1</th>\n",
       "      <td>1</td>\n",
       "      <td>0</td>\n",
       "      <td>33700</td>\n",
       "      <td>134075</td>\n",
       "      <td>18</td>\n",
       "    </tr>\n",
       "    <tr>\n",
       "      <th>2</th>\n",
       "      <td>0</td>\n",
       "      <td>1</td>\n",
       "      <td>36925</td>\n",
       "      <td>160205</td>\n",
       "      <td>30</td>\n",
       "    </tr>\n",
       "    <tr>\n",
       "      <th>3</th>\n",
       "      <td>1</td>\n",
       "      <td>2</td>\n",
       "      <td>50190</td>\n",
       "      <td>193264</td>\n",
       "      <td>15</td>\n",
       "    </tr>\n",
       "    <tr>\n",
       "      <th>4</th>\n",
       "      <td>0</td>\n",
       "      <td>1</td>\n",
       "      <td>81002</td>\n",
       "      <td>27533</td>\n",
       "      <td>28</td>\n",
       "    </tr>\n",
       "    <tr>\n",
       "      <th>...</th>\n",
       "      <td>...</td>\n",
       "      <td>...</td>\n",
       "      <td>...</td>\n",
       "      <td>...</td>\n",
       "      <td>...</td>\n",
       "    </tr>\n",
       "    <tr>\n",
       "      <th>595</th>\n",
       "      <td>1</td>\n",
       "      <td>0</td>\n",
       "      <td>76340</td>\n",
       "      <td>39492</td>\n",
       "      <td>7</td>\n",
       "    </tr>\n",
       "    <tr>\n",
       "      <th>596</th>\n",
       "      <td>1</td>\n",
       "      <td>0</td>\n",
       "      <td>69967</td>\n",
       "      <td>55369</td>\n",
       "      <td>2</td>\n",
       "    </tr>\n",
       "    <tr>\n",
       "      <th>597</th>\n",
       "      <td>0</td>\n",
       "      <td>0</td>\n",
       "      <td>47334</td>\n",
       "      <td>154058</td>\n",
       "      <td>0</td>\n",
       "    </tr>\n",
       "    <tr>\n",
       "      <th>598</th>\n",
       "      <td>1</td>\n",
       "      <td>1</td>\n",
       "      <td>98592</td>\n",
       "      <td>180083</td>\n",
       "      <td>17</td>\n",
       "    </tr>\n",
       "    <tr>\n",
       "      <th>599</th>\n",
       "      <td>0</td>\n",
       "      <td>0</td>\n",
       "      <td>96519</td>\n",
       "      <td>158137</td>\n",
       "      <td>16</td>\n",
       "    </tr>\n",
       "  </tbody>\n",
       "</table>\n",
       "<p>600 rows × 5 columns</p>\n",
       "</div>"
      ],
      "text/plain": [
       "     Undergrad  Marital.Status  Taxable.Income  City.Population  \\\n",
       "0            0               2           68833            50047   \n",
       "1            1               0           33700           134075   \n",
       "2            0               1           36925           160205   \n",
       "3            1               2           50190           193264   \n",
       "4            0               1           81002            27533   \n",
       "..         ...             ...             ...              ...   \n",
       "595          1               0           76340            39492   \n",
       "596          1               0           69967            55369   \n",
       "597          0               0           47334           154058   \n",
       "598          1               1           98592           180083   \n",
       "599          0               0           96519           158137   \n",
       "\n",
       "     Work.Experience  \n",
       "0                 10  \n",
       "1                 18  \n",
       "2                 30  \n",
       "3                 15  \n",
       "4                 28  \n",
       "..               ...  \n",
       "595                7  \n",
       "596                2  \n",
       "597                0  \n",
       "598               17  \n",
       "599               16  \n",
       "\n",
       "[600 rows x 5 columns]"
      ]
     },
     "execution_count": 31,
     "metadata": {},
     "output_type": "execute_result"
    }
   ],
   "source": [
    "x"
   ]
  },
  {
   "cell_type": "code",
   "execution_count": 33,
   "id": "4c1706c6",
   "metadata": {
    "ExecuteTime": {
     "end_time": "2022-04-29T06:38:08.023037Z",
     "start_time": "2022-04-29T06:38:07.999054Z"
    }
   },
   "outputs": [
    {
     "data": {
      "text/plain": [
       "0      0\n",
       "1      0\n",
       "2      0\n",
       "3      0\n",
       "4      0\n",
       "      ..\n",
       "595    0\n",
       "596    0\n",
       "597    0\n",
       "598    0\n",
       "599    0\n",
       "Name: Fraudcheck, Length: 600, dtype: int32"
      ]
     },
     "execution_count": 33,
     "metadata": {},
     "output_type": "execute_result"
    }
   ],
   "source": [
    "y"
   ]
  },
  {
   "cell_type": "code",
   "execution_count": 35,
   "id": "69cf39bf",
   "metadata": {
    "ExecuteTime": {
     "end_time": "2022-04-29T06:38:39.059941Z",
     "start_time": "2022-04-29T06:38:39.035919Z"
    }
   },
   "outputs": [
    {
     "data": {
      "text/plain": [
       "array([0, 1])"
      ]
     },
     "execution_count": 35,
     "metadata": {},
     "output_type": "execute_result"
    }
   ],
   "source": [
    "fraud['Fraudcheck'].unique()"
   ]
  },
  {
   "cell_type": "code",
   "execution_count": 37,
   "id": "35294e83",
   "metadata": {
    "ExecuteTime": {
     "end_time": "2022-04-29T06:39:32.401023Z",
     "start_time": "2022-04-29T06:39:32.377073Z"
    }
   },
   "outputs": [
    {
     "data": {
      "text/plain": [
       "0    476\n",
       "1    124\n",
       "Name: Fraudcheck, dtype: int64"
      ]
     },
     "execution_count": 37,
     "metadata": {},
     "output_type": "execute_result"
    }
   ],
   "source": [
    "fraud.Fraudcheck.value_counts()"
   ]
  },
  {
   "cell_type": "code",
   "execution_count": 38,
   "id": "3343a96b",
   "metadata": {
    "ExecuteTime": {
     "end_time": "2022-04-29T06:40:04.526292Z",
     "start_time": "2022-04-29T06:40:04.502143Z"
    }
   },
   "outputs": [
    {
     "data": {
      "text/plain": [
       "['Undergrad',\n",
       " 'Marital.Status',\n",
       " 'Taxable.Income',\n",
       " 'City.Population',\n",
       " 'Work.Experience',\n",
       " 'Urban',\n",
       " 'Fraudcheck']"
      ]
     },
     "execution_count": 38,
     "metadata": {},
     "output_type": "execute_result"
    }
   ],
   "source": [
    "colnames=list(fraud.columns)\n",
    "colnames"
   ]
  },
  {
   "cell_type": "code",
   "execution_count": 40,
   "id": "ecbf54bb",
   "metadata": {
    "ExecuteTime": {
     "end_time": "2022-04-29T06:41:45.974930Z",
     "start_time": "2022-04-29T06:41:45.958938Z"
    }
   },
   "outputs": [],
   "source": [
    "#Splitting data into training and testing datasets\n",
    "x_train,x_test,y_train,y_test=train_test_split(x,y,test_size=0.2,random_state=40)"
   ]
  },
  {
   "cell_type": "code",
   "execution_count": 45,
   "id": "d76f702e",
   "metadata": {
    "ExecuteTime": {
     "end_time": "2022-04-29T06:45:09.279654Z",
     "start_time": "2022-04-29T06:45:09.255667Z"
    }
   },
   "outputs": [
    {
     "data": {
      "text/plain": [
       "DecisionTreeClassifier(criterion='entropy', max_depth=3)"
      ]
     },
     "execution_count": 45,
     "metadata": {},
     "output_type": "execute_result"
    }
   ],
   "source": [
    "#Building decision tree classifier using ENTROPY criteria\n",
    "model=DecisionTreeClassifier(criterion='entropy',max_depth=3)\n",
    "model.fit(x_train,y_train)"
   ]
  },
  {
   "cell_type": "code",
   "execution_count": 46,
   "id": "c447a892",
   "metadata": {
    "ExecuteTime": {
     "end_time": "2022-04-29T06:45:12.951680Z",
     "start_time": "2022-04-29T06:45:12.696729Z"
    }
   },
   "outputs": [
    {
     "data": {
      "image/png": "[encoded data removed]",
      "text/plain": [
       "<Figure size 432x288 with 1 Axes>"
      ]
     },
     "metadata": {
      "needs_background": "light"
     },
     "output_type": "display_data"
    }
   ],
   "source": [
    "#Plot the decision tree\n",
    "tree.plot_tree(model);"
   ]
  },
  {
   "cell_type": "code",
   "execution_count": 51,
   "id": "db0b5827",
   "metadata": {
    "ExecuteTime": {
     "end_time": "2022-04-29T06:54:13.184091Z",
     "start_time": "2022-04-29T06:54:12.958798Z"
    }
   },
   "outputs": [
    {
     "data": {
      "image/png": "[encoded data removed]",
      "text/plain": [
       "<Figure size 600x600 with 1 Axes>"
      ]
     },
     "metadata": {
      "needs_background": "light"
     },
     "output_type": "display_data"
    }
   ],
   "source": [
    "fn=['Undergrad','Marital.Status','Taxable.Income','Work.Experience','Urban']\n",
    "cn=['Risky','Good']\n",
    "fig,axes=plt.subplots(nrows=1,ncols=1,figsize=(3,3),dpi=200)\n",
    "tree.plot_tree(model,feature_names=fn,class_names=cn,filled=True);\n"
   ]
  },
  {
   "cell_type": "code",
   "execution_count": 53,
   "id": "944a40b2",
   "metadata": {
    "ExecuteTime": {
     "end_time": "2022-04-29T06:54:51.161780Z",
     "start_time": "2022-04-29T06:54:51.145790Z"
    }
   },
   "outputs": [
    {
     "data": {
      "text/plain": [
       "array([0., 0., 1., 0., 0.])"
      ]
     },
     "execution_count": 53,
     "metadata": {},
     "output_type": "execute_result"
    }
   ],
   "source": [
    "#To know the most important feature/root node\n",
    "model.feature_importances_"
   ]
  },
  {
   "cell_type": "code",
   "execution_count": 57,
   "id": "9977e94b",
   "metadata": {
    "ExecuteTime": {
     "end_time": "2022-04-29T06:56:24.345671Z",
     "start_time": "2022-04-29T06:56:24.324817Z"
    }
   },
   "outputs": [
    {
     "data": {
      "text/plain": [
       "Taxable.Income     1.0\n",
       "Undergrad          0.0\n",
       "Marital.Status     0.0\n",
       "Work.Experience    0.0\n",
       "Urban              0.0\n",
       "dtype: float64"
      ]
     },
     "execution_count": 57,
     "metadata": {},
     "output_type": "execute_result"
    }
   ],
   "source": [
    "feature_imp=pd.Series(model.feature_importances_,index=fn).sort_values(ascending=False)\n",
    "feature_imp"
   ]
  },
  {
   "cell_type": "code",
   "execution_count": 59,
   "id": "cee63f74",
   "metadata": {
    "ExecuteTime": {
     "end_time": "2022-04-29T06:59:30.832191Z",
     "start_time": "2022-04-29T06:59:30.630959Z"
    }
   },
   "outputs": [
    {
     "data": {
      "image/png": "[encoded data removed]",
      "text/plain": [
       "<Figure size 432x288 with 1 Axes>"
      ]
     },
     "metadata": {
      "needs_background": "light"
     },
     "output_type": "display_data"
    }
   ],
   "source": [
    "%matplotlib inline\n",
    "#Creating a barplot for most important features\n",
    "sns.barplot(x=feature_imp,y=feature_imp.index)\n",
    "plt.xlabel('Feature Importance Scores')\n",
    "plt.ylabel('Features')\n",
    "plt.title('Visualizing Important Features')\n",
    "plt.show()"
   ]
  },
  {
   "cell_type": "code",
   "execution_count": 60,
   "id": "0d21a16b",
   "metadata": {
    "ExecuteTime": {
     "end_time": "2022-04-29T06:59:34.082521Z",
     "start_time": "2022-04-29T06:59:34.058536Z"
    }
   },
   "outputs": [
    {
     "data": {
      "text/plain": [
       "0    92\n",
       "1    28\n",
       "dtype: int64"
      ]
     },
     "execution_count": 60,
     "metadata": {},
     "output_type": "execute_result"
    }
   ],
   "source": [
    "#Predicting on Test Data\n",
    "preds=model.predict(x_test)#Predicting on test data set\n",
    "pd.Series(preds).value_counts()#getting the count of each category"
   ]
  },
  {
   "cell_type": "code",
   "execution_count": 61,
   "id": "7a56f11e",
   "metadata": {
    "ExecuteTime": {
     "end_time": "2022-04-29T07:00:11.207227Z",
     "start_time": "2022-04-29T07:00:11.183243Z"
    }
   },
   "outputs": [
    {
     "data": {
      "text/plain": [
       "array([0, 0, 0, 0, 1, 1, 0, 1, 1, 0, 0, 1, 1, 0, 1, 1, 0, 0, 0, 0, 0, 1,\n",
       "       0, 0, 0, 0, 0, 0, 0, 0, 0, 0, 0, 0, 0, 0, 0, 0, 0, 0, 0, 1, 0, 0,\n",
       "       0, 0, 0, 0, 1, 0, 0, 0, 0, 0, 0, 0, 0, 0, 0, 0, 0, 0, 1, 1, 0, 0,\n",
       "       0, 0, 0, 0, 0, 1, 0, 1, 0, 0, 0, 0, 1, 0, 0, 0, 1, 1, 1, 0, 0, 0,\n",
       "       0, 1, 1, 0, 0, 0, 1, 1, 0, 0, 0, 1, 0, 0, 1, 0, 0, 0, 0, 0, 1, 1,\n",
       "       0, 0, 1, 0, 0, 0, 0, 0, 0, 0])"
      ]
     },
     "execution_count": 61,
     "metadata": {},
     "output_type": "execute_result"
    }
   ],
   "source": [
    "preds"
   ]
  },
  {
   "cell_type": "code",
   "execution_count": 63,
   "id": "9b3ee709",
   "metadata": {
    "ExecuteTime": {
     "end_time": "2022-04-29T07:00:35.444552Z",
     "start_time": "2022-04-29T07:00:35.404577Z"
    }
   },
   "outputs": [
    {
     "data": {
      "text/html": [
       "<div>\n",
       "<style scoped>\n",
       "    .dataframe tbody tr th:only-of-type {\n",
       "        vertical-align: middle;\n",
       "    }\n",
       "\n",
       "    .dataframe tbody tr th {\n",
       "        vertical-align: top;\n",
       "    }\n",
       "\n",
       "    .dataframe thead th {\n",
       "        text-align: right;\n",
       "    }\n",
       "</style>\n",
       "<table border=\"1\" class=\"dataframe\">\n",
       "  <thead>\n",
       "    <tr style=\"text-align: right;\">\n",
       "      <th>col_0</th>\n",
       "      <th>0</th>\n",
       "      <th>1</th>\n",
       "    </tr>\n",
       "    <tr>\n",
       "      <th>Fraudcheck</th>\n",
       "      <th></th>\n",
       "      <th></th>\n",
       "    </tr>\n",
       "  </thead>\n",
       "  <tbody>\n",
       "    <tr>\n",
       "      <th>0</th>\n",
       "      <td>92</td>\n",
       "      <td>0</td>\n",
       "    </tr>\n",
       "    <tr>\n",
       "      <th>1</th>\n",
       "      <td>0</td>\n",
       "      <td>28</td>\n",
       "    </tr>\n",
       "  </tbody>\n",
       "</table>\n",
       "</div>"
      ],
      "text/plain": [
       "col_0        0   1\n",
       "Fraudcheck        \n",
       "0           92   0\n",
       "1            0  28"
      ]
     },
     "execution_count": 63,
     "metadata": {},
     "output_type": "execute_result"
    }
   ],
   "source": [
    "pd.crosstab(y_test,preds)#getting the 2 way table to understand the correct and wrong predictions"
   ]
  },
  {
   "cell_type": "code",
   "execution_count": 65,
   "id": "d63bf040",
   "metadata": {
    "ExecuteTime": {
     "end_time": "2022-04-29T07:00:52.574130Z",
     "start_time": "2022-04-29T07:00:52.550265Z"
    }
   },
   "outputs": [
    {
     "data": {
      "text/plain": [
       "1.0"
      ]
     },
     "execution_count": 65,
     "metadata": {},
     "output_type": "execute_result"
    }
   ],
   "source": [
    "#Accuracy\n",
    "np.mean(preds==y_test)"
   ]
  },
  {
   "cell_type": "code",
   "execution_count": 67,
   "id": "97eaf587",
   "metadata": {
    "ExecuteTime": {
     "end_time": "2022-04-29T07:01:10.662984Z",
     "start_time": "2022-04-29T07:01:10.646602Z"
    }
   },
   "outputs": [],
   "source": [
    "#Building decision tree classifier(CART) using GINI criteria\n",
    "from sklearn.tree import DecisionTreeClassifier\n",
    "model_gini=DecisionTreeClassifier(criterion='gini',max_depth=5)"
   ]
  },
  {
   "cell_type": "code",
   "execution_count": 69,
   "id": "5926a5a3",
   "metadata": {
    "ExecuteTime": {
     "end_time": "2022-04-29T07:01:30.784602Z",
     "start_time": "2022-04-29T07:01:30.768577Z"
    }
   },
   "outputs": [
    {
     "data": {
      "text/plain": [
       "DecisionTreeClassifier(max_depth=5)"
      ]
     },
     "execution_count": 69,
     "metadata": {},
     "output_type": "execute_result"
    }
   ],
   "source": [
    "model_gini.fit(x_train,y_train)"
   ]
  },
  {
   "cell_type": "code",
   "execution_count": 71,
   "id": "43d68851",
   "metadata": {
    "ExecuteTime": {
     "end_time": "2022-04-29T07:01:33.846383Z",
     "start_time": "2022-04-29T07:01:33.822397Z"
    }
   },
   "outputs": [
    {
     "data": {
      "text/plain": [
       "1.0"
      ]
     },
     "execution_count": 71,
     "metadata": {},
     "output_type": "execute_result"
    }
   ],
   "source": [
    "#Prediction and computing the accuracy\n",
    "pred=model.predict(x_test)\n",
    "np.mean(preds==y_test)"
   ]
  },
  {
   "cell_type": "code",
   "execution_count": 73,
   "id": "e742fde8",
   "metadata": {
    "ExecuteTime": {
     "end_time": "2022-04-29T07:02:02.099741Z",
     "start_time": "2022-04-29T07:02:02.083712Z"
    }
   },
   "outputs": [
    {
     "data": {
      "text/plain": [
       "array([0., 0., 1., 0., 0.])"
      ]
     },
     "execution_count": 73,
     "metadata": {},
     "output_type": "execute_result"
    }
   ],
   "source": [
    "model.feature_importances_"
   ]
  },
  {
   "cell_type": "code",
   "execution_count": 75,
   "id": "d25ed645",
   "metadata": {
    "ExecuteTime": {
     "end_time": "2022-04-29T07:02:27.614137Z",
     "start_time": "2022-04-29T07:02:27.590442Z"
    }
   },
   "outputs": [],
   "source": [
    "#Decision Tree Regression\n",
    "from sklearn.tree import DecisionTreeRegressor"
   ]
  },
  {
   "cell_type": "code",
   "execution_count": 78,
   "id": "3f72b7f4",
   "metadata": {
    "ExecuteTime": {
     "end_time": "2022-04-29T07:03:04.803500Z",
     "start_time": "2022-04-29T07:03:04.787475Z"
    }
   },
   "outputs": [],
   "source": [
    "array=fraud.values\n",
    "x=array[:,0:4]\n",
    "y=array[:,-4]"
   ]
  },
  {
   "cell_type": "code",
   "execution_count": 80,
   "id": "9e9a1733",
   "metadata": {
    "ExecuteTime": {
     "end_time": "2022-04-29T07:03:17.014708Z",
     "start_time": "2022-04-29T07:03:16.991019Z"
    }
   },
   "outputs": [
    {
     "data": {
      "text/plain": [
       "array([ 50047, 134075, 160205, 193264,  27533, 116382,  80890, 131253,\n",
       "       102481, 155482, 102602,  94875, 148033,  86649,  57529, 107764,\n",
       "        34551,  57194,  59269, 126953, 147222,  29106, 155342,  50495,\n",
       "        28495, 124606, 169128,  28542, 128766,  41863, 117788, 147414,\n",
       "        51911, 157251, 183767,  41117, 193995,  66912, 177575,  54981,\n",
       "       199697,  91524,  51666,  50020,  98880, 183095, 137346,  34964,\n",
       "        35480, 160195, 145804, 174042,  91828, 139143,  98207,  89965,\n",
       "        69832,  70744, 158047, 102228,  91138,  86169, 147684,  95831,\n",
       "       118261, 194738,  66985, 173986, 139642,  86896,  80904, 105680,\n",
       "       108300, 174789, 182319,  50404, 129164, 118344, 143153, 140885,\n",
       "        28184, 121608, 111068,  73963, 178083, 125155,  97520,  64075,\n",
       "        63896, 176050, 101232,  73733, 114621, 137676, 122705, 121498,\n",
       "        63622,  37849,  77053, 114350,  46444,  50490,  91488,  76318,\n",
       "       174423,  46893,  58535,  52424, 120894, 178585,  32450, 164526,\n",
       "       193038, 100347, 197934,  78251, 132570,  96370, 199174,  47202,\n",
       "       135886,  86648, 140762,  79683, 139324, 155669, 195022,  93035,\n",
       "       100897,  65469,  87730, 174321,  67820,  86646, 190365,  75323,\n",
       "        53513, 115884, 155335,  86904,  93390, 194364, 122654, 154013,\n",
       "       156503, 197422,  57931, 163252, 197038,  49505, 161759, 109110,\n",
       "        91889, 114841,  82520, 139624, 125987, 115631, 163347,  28504,\n",
       "        79972, 185596, 177468,  91851, 153192,  38463,  73466, 194381,\n",
       "       167629,  76933, 143402, 103614,  52819, 105110, 149857,  57055,\n",
       "        75169,  31156,  85832, 192451, 149101,  36116,  89632,  39523,\n",
       "        70138,  92975, 166976,  59558, 137569, 189301,  90459, 176341,\n",
       "       126556, 198213, 103981, 181370,  28410,  98056,  48025, 145744,\n",
       "       162777,  58225,  28661, 117260, 173091, 131906,  52227, 138108,\n",
       "       141502, 186239, 125993,  57194, 112659, 107069, 140159,  28576,\n",
       "        85128, 179220,  38091,  26814, 115168, 134135, 168248, 192297,\n",
       "        55717, 125883,  77719, 182921, 100696,  35780,  81593, 153147,\n",
       "       150349,  63701, 102498,  87541, 193193, 128996,  72968,  76145,\n",
       "       139146,  31377,  84368, 181549, 154647, 183221,  38139, 108245,\n",
       "       105374,  35376, 156973, 173228,  40855,  77256, 193263, 170030,\n",
       "       168568,  31611,  74119, 197841,  92333,  68788, 120415,  69386,\n",
       "       118899, 101996, 173276, 183946,  98378, 125450, 130680, 183682,\n",
       "       126488,  58942, 112584,  55591,  44251, 117364, 114823,  74136,\n",
       "        33184, 167403,  59590, 129276, 188383,  63420, 113724,  77102,\n",
       "       174196, 196816, 193003,  62475,  76406,  43899,  74074,  40089,\n",
       "       167600,  36924, 119904, 197916,  74052,  39797,  97109, 189061,\n",
       "       106757, 161265, 185099,  31819, 183445, 123761, 189435,  50013,\n",
       "        31641, 124848,  85255, 176278,  70323, 116745, 121324, 153308,\n",
       "        78897,  84215, 160932, 165175, 171288,  25779, 165001, 162777,\n",
       "        93414,  39360,  43176,  60999,  84132,  44775, 118274, 140998,\n",
       "        73146,  73490, 111264, 110940,  54437,  83900,  31097, 161143,\n",
       "       192313, 118798, 134635,  80991,  42269,  72255,  89949, 114922,\n",
       "        72115, 141622, 176891,  56488,  46480,  84034,  96432, 157299,\n",
       "       107937,  62671,  75552,  52584,  62943, 134321, 131469,  95404,\n",
       "       128428,  89122,  86119,  75580, 168473, 175719, 147614, 130935,\n",
       "       188067, 103490, 152471, 112774, 197699,  61920, 139269, 148246,\n",
       "       147346, 140132, 140642,  56597, 151636, 183187,  57324,  29934,\n",
       "        37776,  68687,  64990, 183094, 176330,  91689,  64070,  74497,\n",
       "       197421,  73065, 105376, 130912,  34334, 140266, 107688,  52144,\n",
       "        77059, 163058,  41152,  46253,  28446, 112890,  27300, 131493,\n",
       "        33982,  76625, 104183, 138074,  84473, 135185, 191983,  80249,\n",
       "        94199, 121506,  50373,  99025, 128266, 153748, 161215, 168360,\n",
       "       157217, 129265,  87188, 111774, 158057, 117250,  74697,  48956,\n",
       "       170407,  70314, 193775, 189209,  36956, 128451,  65708, 166606,\n",
       "       114597,  27875,  91936, 108262,  42620,  41504,  29602,  65533,\n",
       "        53788,  36055, 110892, 125407,  54701, 163901, 149327,  40460,\n",
       "       143349, 116282, 186013, 106946,  38814,  65487, 148686, 192410,\n",
       "       151963, 147367,  80729,  36081, 183057, 158849,  65242,  68995,\n",
       "        72252, 120012, 125771, 100961, 114646,  52766,  57230,  83402,\n",
       "        76718, 148821, 120996,  82029,  98123, 103226, 197045,  59156,\n",
       "        59382, 100331, 164924,  48744, 158780,  55842,  53240,  81550,\n",
       "       198571,  74910, 111105, 101272, 195357,  65531,  75436, 153233,\n",
       "       137948, 140400,  31380,  87868,  76337, 195078, 112591, 162102,\n",
       "       142426,  51104, 103343,  42198, 164391,  75307,  82565, 180274,\n",
       "       172612,  83388, 194421, 124440,  98662,  54113,  91567, 189851,\n",
       "       157025, 100651, 119976,  57390, 110308, 191874, 199778, 130816,\n",
       "       133877, 109079,  59091,  42690, 154393,  74058,  68160, 123082,\n",
       "       109191,  26884, 147788,  53848,  34242, 157421, 191139, 180424,\n",
       "       182562,  36861, 100064, 116495,  30098,  31064,  33460, 129912,\n",
       "       150036,  38074, 161629,  95421, 148068, 116161,  28768,  95975,\n",
       "        79653,  52940, 185339, 125112, 123335,  57473,  32907,  28874,\n",
       "       155684, 137622, 106230, 154677,  93242,  30774,  85195, 132859,\n",
       "        75143, 131963,  97526,  39492,  55369, 154058, 180083, 158137],\n",
       "      dtype=int64)"
      ]
     },
     "execution_count": 80,
     "metadata": {},
     "output_type": "execute_result"
    }
   ],
   "source": [
    "y"
   ]
  },
  {
   "cell_type": "code",
   "execution_count": 81,
   "id": "9e6dc073",
   "metadata": {
    "ExecuteTime": {
     "end_time": "2022-04-29T07:03:38.719799Z",
     "start_time": "2022-04-29T07:03:38.695812Z"
    }
   },
   "outputs": [],
   "source": [
    "x_train,x_test,y_train,y_test=train_test_split(x,y,test_size=0.33,random_state=50_Startups.csv0)"
   ]
  },
  {
   "cell_type": "code",
   "execution_count": 82,
   "id": "38d62709",
   "metadata": {
    "ExecuteTime": {
     "end_time": "2022-04-29T07:03:59.668390Z",
     "start_time": "2022-04-29T07:03:59.644370Z"
    }
   },
   "outputs": [
    {
     "data": {
      "text/plain": [
       "DecisionTreeRegressor()"
      ]
     },
     "execution_count": 82,
     "metadata": {},
     "output_type": "execute_result"
    }
   ],
   "source": [
    "model=DecisionTreeRegressor()\n",
    "model.fit(x_train,y_train)"
   ]
  },
  {
   "cell_type": "code",
   "execution_count": 83,
   "id": "4c2d60d1",
   "metadata": {
    "ExecuteTime": {
     "end_time": "2022-04-29T07:04:11.492581Z",
     "start_time": "2022-04-29T07:04:11.468215Z"
    }
   },
   "outputs": [
    {
     "data": {
      "text/plain": [
       "0.9999046755957253"
      ]
     },
     "execution_count": 83,
     "metadata": {},
     "output_type": "execute_result"
    }
   ],
   "source": [
    "model.score(x_test,y_test)"
   ]
  }
 ],
 "metadata": {
  "kernelspec": {
   "display_name": "Python 3",
   "language": "python",
   "name": "python3"
  },
  "language_info": {
   "codemirror_mode": {
    "name": "ipython",
    "version": 3
   },
   "file_extension": ".py",
   "mimetype": "text/x-python",
   "name": "python",
   "nbconvert_exporter": "python",
   "pygments_lexer": "ipython3",
   "version": "3.8.8"
  },
  "varInspector": {
   "cols": {
    "lenName": 16,
    "lenType": 16,
    "lenVar": 40
   },
   "kernels_config": {
    "python": {
     "delete_cmd_postfix": "",
     "delete_cmd_prefix": "del ",
     "library": "var_list.py",
     "varRefreshCmd": "print(var_dic_list())"
    },
    "r": {
     "delete_cmd_postfix": ") ",
     "delete_cmd_prefix": "rm(",
     "library": "var_list.r",
     "varRefreshCmd": "cat(var_dic_list()) "
    }
   },
   "types_to_exclude": [
    "module",
    "function",
    "builtin_function_or_method",
    "instance",
    "_Feature"
   ],
   "window_display": false
  }
 },
 "nbformat": 4,
 "nbformat_minor": 5
}
